{
 "cells": [
  {
   "cell_type": "code",
   "execution_count": 2,
   "metadata": {},
   "outputs": [
    {
     "data": {
      "image/png": "[encoded data removed]",
      "text/html": [
       "<img src=\"data:image/png;base64,iVBORw0KGgoAAAANSUhEUgAAAHAAAABwCAAAAADji6uXAAAABGdBTUEAALGPC/xhBQAAAAFzUkdCAK7OHOkAAAAgY0hSTQAAeiYAAICEAAD6AAAAgOgAAHUwAADqYAAAOpgAABdwnLpRPAAAAjJJREFUaAW9wT1oHAQABtB3+mGISDN0sIK46SaGFEUnxbEVFTtIkWYVRCgoAYcomRzUDlYQBREUhTo4WCwihcKB0EGtOneTQkAtgu1ih5zDDRlyf0nley/KoizKoizKoizKoizKoizKoizKoizKoixuw1G8inV8jg9wxWxRFmVRFge0ios4hBFO4VkcNluURVmUxQE8hq+xghFu4BYO4wn8jFsmi7Ioi7LYh7uxhi9wn11X8Q7O4Qe8ibdNFmVRFmWxDx/jpL3WcA+GeAoPmy7KoizKYkFHcRwDY0N8i3exjV/wN57GwHRRFmVRFgtYxUUcwgjf4SSexCY+wZ/4DTs4jjVcsVeURVmUxRwPYQMr+Avb+Aw3cQEX7LWM1/GSvaIsyqIsZljCeziGG1jHT1g23wMmi7Ioi7KYYQ3HjD2HodsXZVEWZTHDGQwwxNBi7sAOBiaLsiiLspjiGaxihPMWt4MRfjVZlEVZlMUUy7gLf+Ar8y1hy9glvGGyKIuyKIs5/sW22ZawiQ1cwxncNFmURVmUxRznzbaKDbyIb3DCbFEWZVEWUwwwwPM4bbLXsIkVfIl180VZlEVZTDHCCEdwFp/iOh7HKTyC+/E7vseHFhNlURZlMcedeAUn8A8etOsyLuEti4uyKIuymOIyfsSjxo7gXmPXcQ6n7V+URVmUxRTX8AJexqZd7+MjXHUwURZlURYzbGMLW/4/URZlURZlURZlURZlURZlURZlURZlUfYfqPxYlL4fzGQAAAAASUVORK5C\">"
      ],
      "text/plain": [
       "28×28 Array{Gray{N0f8},2} with eltype Gray{N0f8}:\n",
       " Gray{N0f8}(0.0)  Gray{N0f8}(0.0)  …  Gray{N0f8}(0.0)  Gray{N0f8}(0.0)\n",
       " Gray{N0f8}(0.0)  Gray{N0f8}(0.0)     Gray{N0f8}(0.0)  Gray{N0f8}(0.0)\n",
       " Gray{N0f8}(0.0)  Gray{N0f8}(0.0)     Gray{N0f8}(0.0)  Gray{N0f8}(0.0)\n",
       " Gray{N0f8}(0.0)  Gray{N0f8}(0.0)     Gray{N0f8}(0.0)  Gray{N0f8}(0.0)\n",
       " Gray{N0f8}(0.0)  Gray{N0f8}(0.0)     Gray{N0f8}(0.0)  Gray{N0f8}(0.0)\n",
       " Gray{N0f8}(0.0)  Gray{N0f8}(0.0)  …  Gray{N0f8}(0.0)  Gray{N0f8}(0.0)\n",
       " Gray{N0f8}(0.0)  Gray{N0f8}(0.0)     Gray{N0f8}(0.0)  Gray{N0f8}(0.0)\n",
       " Gray{N0f8}(0.0)  Gray{N0f8}(0.0)     Gray{N0f8}(0.0)  Gray{N0f8}(0.0)\n",
       " Gray{N0f8}(0.0)  Gray{N0f8}(0.0)     Gray{N0f8}(0.0)  Gray{N0f8}(0.0)\n",
       " Gray{N0f8}(0.0)  Gray{N0f8}(0.0)     Gray{N0f8}(0.0)  Gray{N0f8}(0.0)\n",
       " ⋮                                 ⋱                   \n",
       " Gray{N0f8}(0.0)  Gray{N0f8}(0.0)     Gray{N0f8}(0.0)  Gray{N0f8}(0.0)\n",
       " Gray{N0f8}(0.0)  Gray{N0f8}(0.0)  …  Gray{N0f8}(0.0)  Gray{N0f8}(0.0)\n",
       " Gray{N0f8}(0.0)  Gray{N0f8}(0.0)     Gray{N0f8}(0.0)  Gray{N0f8}(0.0)\n",
       " Gray{N0f8}(0.0)  Gray{N0f8}(0.0)     Gray{N0f8}(0.0)  Gray{N0f8}(0.0)\n",
       " Gray{N0f8}(0.0)  Gray{N0f8}(0.0)     Gray{N0f8}(0.0)  Gray{N0f8}(0.0)\n",
       " Gray{N0f8}(0.0)  Gray{N0f8}(0.0)     Gray{N0f8}(0.0)  Gray{N0f8}(0.0)\n",
       " Gray{N0f8}(0.0)  Gray{N0f8}(0.0)  …  Gray{N0f8}(0.0)  Gray{N0f8}(0.0)\n",
       " Gray{N0f8}(0.0)  Gray{N0f8}(0.0)     Gray{N0f8}(0.0)  Gray{N0f8}(0.0)\n",
       " Gray{N0f8}(0.0)  Gray{N0f8}(0.0)     Gray{N0f8}(0.0)  Gray{N0f8}(0.0)"
      ]
     },
     "metadata": {},
     "output_type": "display_data"
    }
   ],
   "source": [
    "using Pkg\n",
    "using Images\n",
    "img = load(\"C://Users/Jash/OneDrive - University of Cincinnati/Desktop/Research/training/0/1.png\")\n"
   ]
  },
  {
   "cell_type": "code",
   "execution_count": 26,
   "metadata": {},
   "outputs": [
    {
     "data": {
      "image/png": "[encoded data removed]",
      "text/html": [
       "<img src=\"data:image/png;base64,iVBORw0KGgoAAAANSUhEUgAAAKAAAABQCAAAAAC7NiHoAAAABGdBTUEAALGPC/xhBQAAAAFzUkdCAK7OHOkAAAAgY0hSTQAAeiYAAICEAAD6AAAAgOgAAHUwAADqYAAAOpgAABdwnLpRPAAAAQlJREFUaAXNwSFqFwAAR+E3eElEg8lbyAZeYmBf0D7wJBoNY1UMFtuaaSfYAXYAo8FmmeGXBsIM/8n7PomTOImTOImTOImTOImTOImTOImTOImTOImTOImTOImTOImTOImTOImTOImTOImTOHnABXPOYZ0w75l3zGfmEyNxEidxEidxEidx8oBzDusV8515xtwxb5k3jMRJnMRJnMRJnMTJf/Ka+cY8Z+6YX8xv5gUjcRIncRIncRIncfJInjDHzBfmJX93y3xgvjISJ3ESJ3ESJ3ESJ4/kkjnj3xwzT5lrRuIkTuIkTuIkTuLkwE6YU+aI+66ZK+Yj84O5YX4yEidxEidxEidxEvcHtckVi9K4znoAAAAASUVORK5C\">"
      ],
      "text/plain": [
       "10×20 Array{Gray{N0f8},2} with eltype Gray{N0f8}:\n",
       " Gray{N0f8}(0.0)  Gray{N0f8}(0.0)  Gray{N0f8}(0.0)  …  Gray{N0f8}(0.0)\n",
       " Gray{N0f8}(0.0)  Gray{N0f8}(0.0)  Gray{N0f8}(0.0)     Gray{N0f8}(0.0)\n",
       " Gray{N0f8}(0.0)  Gray{N0f8}(0.0)  Gray{N0f8}(0.0)     Gray{N0f8}(0.0)\n",
       " Gray{N0f8}(0.0)  Gray{N0f8}(0.0)  Gray{N0f8}(0.0)     Gray{N0f8}(0.0)\n",
       " Gray{N0f8}(0.0)  Gray{N0f8}(0.0)  Gray{N0f8}(0.0)     Gray{N0f8}(0.196)\n",
       " Gray{N0f8}(0.0)  Gray{N0f8}(0.0)  Gray{N0f8}(0.0)  …  Gray{N0f8}(0.929)\n",
       " Gray{N0f8}(0.0)  Gray{N0f8}(0.0)  Gray{N0f8}(0.0)     Gray{N0f8}(0.988)\n",
       " Gray{N0f8}(0.0)  Gray{N0f8}(0.0)  Gray{N0f8}(0.0)     Gray{N0f8}(0.988)\n",
       " Gray{N0f8}(0.0)  Gray{N0f8}(0.0)  Gray{N0f8}(0.0)     Gray{N0f8}(0.741)\n",
       " Gray{N0f8}(0.0)  Gray{N0f8}(0.0)  Gray{N0f8}(0.0)     Gray{N0f8}(0.31)"
      ]
     },
     "metadata": {},
     "output_type": "display_data"
    }
   ],
   "source": [
    "#size(img)\n",
    "#typeof(img)\n",
    "#img[5,5] = RGB(1,0.5,0)\n",
    "img2 = img[1:10,1:20]"
   ]
  },
  {
   "cell_type": "code",
   "execution_count": 27,
   "metadata": {},
   "outputs": [
    {
     "data": {
      "image/png": "[encoded data removed]",
      "text/html": [
       "<img src=\"data:image/png;base64,iVBORw0KGgoAAAANSUhEUgAAAGwAAABsCAAAAACqDQgRAAAABGdBTUEAALGPC/xhBQAAAAFzUkdCAK7OHOkAAAAgY0hSTQAAeiYAAICEAAD6AAAAgOgAAHUwAADqYAAAOpgAABdwnLpRPAAAAhxJREFUaAW9wTGIFQQAxvH/sw+PE/EGlwRX3cTjBKnJaNRQ4QZx8HZDEILbTnG2XBSKIILCQAcHRYk4EB4ELZU0t4VwoImgLjrck//0jrvuOp/w/X75Bp1nckfQBbSAfkQ30J+MhaJQFIpCUSjKeSY3i5bRHjRC59BJtJexUBSKQlEoCkVhIkfRHTSDRugleoP2oo/RHygUhaJQFIpCUdi2XWgO3UT7WO9vdBXdQr+iSygUhaJQFIpCUdi2b9FZtjKHdqMh+gQdQqEoFIWiUBSKwjYcQSfQgLEhuo++RCvoEXqOPkUDFIpCUSgKRaEobGkWLaM9aIR+RmfRMbSEvkNP0V9oFZ1AoSgUhaJQFIrCJg6iRTSD/kUr6Af0Cj1AD9jKNApFoSgUhaJQFDaYQl+h4+glWkC/o2kmEYpCUSgKRaEobDCHjjN2Cg15X6EoFIWiUBSKwgbX0AAN0ZDJ7UCrKBSFolAUikJRWOMzNItG6B7vaxWNUCgKRaEoFIWisMY02omeoNtMYgpdYewhCkWhKBSFolAUNvEarfBuptASWkSP0TUUikJRKApFoShs4h7vZhYtojPoLppnLBSFolAUikJRWGOABug0usj/+wItoRn0E1pgvVAUikJRKApFYY0RGqEP0XX0PXqGPkLn0GG0H/2DfkFf899CUSgKRaEoFIVNfIA+R/PoBTrAer+hh+gyWwlFoSgUhaJQ9BZb70pG9o0YeAAAAABJRU5ErkJg\">"
      ],
      "text/plain": [
       "18×18 Array{Gray{N0f8},2} with eltype Gray{N0f8}:\n",
       " Gray{N0f8}(0.592)  Gray{N0f8}(0.0)  Gray{N0f8}(0.0)    …  Gray{N0f8}(0.0)\n",
       " Gray{N0f8}(0.0)    Gray{N0f8}(0.0)  Gray{N0f8}(0.0)       Gray{N0f8}(0.0)\n",
       " Gray{N0f8}(0.0)    Gray{N0f8}(0.0)  Gray{N0f8}(0.0)       Gray{N0f8}(0.024)\n",
       " Gray{N0f8}(0.0)    Gray{N0f8}(0.0)  Gray{N0f8}(0.0)       Gray{N0f8}(0.478)\n",
       " Gray{N0f8}(0.0)    Gray{N0f8}(0.0)  Gray{N0f8}(0.0)       Gray{N0f8}(0.655)\n",
       " Gray{N0f8}(0.0)    Gray{N0f8}(0.0)  Gray{N0f8}(0.0)    …  Gray{N0f8}(0.659)\n",
       " Gray{N0f8}(0.0)    Gray{N0f8}(0.0)  Gray{N0f8}(0.0)       Gray{N0f8}(0.953)\n",
       " Gray{N0f8}(0.0)    Gray{N0f8}(0.0)  Gray{N0f8}(0.0)       Gray{N0f8}(0.988)\n",
       " Gray{N0f8}(0.0)    Gray{N0f8}(0.0)  Gray{N0f8}(0.0)       Gray{N0f8}(0.988)\n",
       " Gray{N0f8}(0.0)    Gray{N0f8}(0.0)  Gray{N0f8}(0.0)       Gray{N0f8}(0.988)\n",
       " Gray{N0f8}(0.0)    Gray{N0f8}(0.0)  Gray{N0f8}(0.0)    …  Gray{N0f8}(0.992)\n",
       " Gray{N0f8}(0.0)    Gray{N0f8}(0.0)  Gray{N0f8}(0.298)     Gray{N0f8}(0.988)\n",
       " Gray{N0f8}(0.0)    Gray{N0f8}(0.0)  Gray{N0f8}(0.333)     Gray{N0f8}(0.729)\n",
       " Gray{N0f8}(0.0)    Gray{N0f8}(0.0)  Gray{N0f8}(0.333)     Gray{N0f8}(0.278)\n",
       " Gray{N0f8}(0.0)    Gray{N0f8}(0.0)  Gray{N0f8}(0.333)     Gray{N0f8}(0.0)\n",
       " Gray{N0f8}(0.0)    Gray{N0f8}(0.0)  Gray{N0f8}(0.337)  …  Gray{N0f8}(0.0)\n",
       " Gray{N0f8}(0.0)    Gray{N0f8}(0.0)  Gray{N0f8}(0.333)     Gray{N0f8}(0.0)\n",
       " Gray{N0f8}(0.0)    Gray{N0f8}(0.0)  Gray{N0f8}(0.333)     Gray{N0f8}(0.0)"
      ]
     },
     "metadata": {},
     "output_type": "display_data"
    }
   ],
   "source": [
    "img3 = img[5:22,5:22]"
   ]
  },
  {
   "cell_type": "code",
   "execution_count": 28,
   "metadata": {},
   "outputs": [
    {
     "data": {
      "image/png": "[encoded data removed]",
      "text/html": [
       "<img src=\"data:image/png;base64,iVBORw0KGgoAAAANSUhEUgAAAHAAAABwCAAAAADji6uXAAAABGdBTUEAALGPC/xhBQAAAAFzUkdCAK7OHOkAAAAgY0hSTQAAeiYAAICEAAD6AAAAgOgAAHUwAADqYAAAOpgAABdwnLpRPAAAAjlJREFUaAW9wT+IFQQAB+Dv1Y+Oi/AGhxSirbboOClqKho1KnIICW8NIxCKg4YrbmqoHCzIggiKAhsakiRCEB4EDpXV7BbCQSVBuuRwr+GGA+/9O4vf90VZlEVZlEVZlEVZlEVZlEVZlEVZlEVZlMUtzuCE+RzCK1jFZ3gfl00XZVEWZXGLE+azjAvYhxGO4xnsN12URVmUxW14FF9hCSNcx03sx+P4CTeNF2VRFmWxB3djBZ/joB1X8DbO4nu8gbeMF2VRFmWxBx/hmN1WcA+GeBIPmSzKoizKYk6HcAQD24b4Bu9gEz/jLzyFgcmiLMqiLOawjAvYhxG+xTE8gXV8jD/wK7ZwBCu4bLcoi7IoixkexBqW8Cc28Slu4DzO220Rr+FFu0VZlEVZTLGAd3EY17GKH7FotvuNF2VRFmUxxQoO2/Yshv67KIuyKIspTmGAIYbmcwe2MDBelEVZlMUET2MZI5wzvy2M8IvxoizKoiwmWMRd+B1fmm0BG7ZdxOvGi7Ioi7KY4R9smm4B61jDVZzCDeNFWZRFWcxwznTLWMML+BpHTRdlURZlMcEAAzyHk8Z7FetYwhdYNVuURVmUxQQjjHAA7+ETXMNjOI6HcR9+w3f4wHyiLMqiLGa4Ey/jKP7GA3ZcwkW8aX5RFmVRFhNcwg94xLYDuNe2aziLk/YuyqIsymKCq3geL2HdjtP4EFfcniiLsiiLKTaxgQ3/nyiLsiiLsiiLsiiLsiiLsiiLsiiLsij7F5rQWf20RLvdAAAAAElFTkSuQmCC\">"
      ],
      "text/plain": [
       "28×28 Array{Gray{N0f8},2} with eltype Gray{N0f8}:\n",
       " Gray{N0f8}(0.0)  Gray{N0f8}(0.0)  …  Gray{N0f8}(0.0)  Gray{N0f8}(0.0)\n",
       " Gray{N0f8}(0.0)  Gray{N0f8}(0.0)     Gray{N0f8}(0.0)  Gray{N0f8}(0.0)\n",
       " Gray{N0f8}(0.0)  Gray{N0f8}(0.0)     Gray{N0f8}(0.0)  Gray{N0f8}(0.0)\n",
       " Gray{N0f8}(0.0)  Gray{N0f8}(0.0)     Gray{N0f8}(0.0)  Gray{N0f8}(0.0)\n",
       " Gray{N0f8}(0.0)  Gray{N0f8}(0.0)     Gray{N0f8}(0.0)  Gray{N0f8}(0.0)\n",
       " Gray{N0f8}(0.0)  Gray{N0f8}(0.0)  …  Gray{N0f8}(0.0)  Gray{N0f8}(0.0)\n",
       " Gray{N0f8}(0.0)  Gray{N0f8}(0.0)     Gray{N0f8}(0.0)  Gray{N0f8}(0.0)\n",
       " Gray{N0f8}(0.0)  Gray{N0f8}(0.0)     Gray{N0f8}(0.0)  Gray{N0f8}(0.0)\n",
       " Gray{N0f8}(0.0)  Gray{N0f8}(0.0)     Gray{N0f8}(0.0)  Gray{N0f8}(0.0)\n",
       " Gray{N0f8}(0.0)  Gray{N0f8}(0.0)     Gray{N0f8}(0.0)  Gray{N0f8}(0.0)\n",
       " ⋮                                 ⋱                   \n",
       " Gray{N0f8}(0.0)  Gray{N0f8}(0.0)     Gray{N0f8}(0.0)  Gray{N0f8}(0.0)\n",
       " Gray{N0f8}(0.0)  Gray{N0f8}(0.0)  …  Gray{N0f8}(0.0)  Gray{N0f8}(0.0)\n",
       " Gray{N0f8}(0.0)  Gray{N0f8}(0.0)     Gray{N0f8}(0.0)  Gray{N0f8}(0.0)\n",
       " Gray{N0f8}(0.0)  Gray{N0f8}(0.0)     Gray{N0f8}(0.0)  Gray{N0f8}(0.0)\n",
       " Gray{N0f8}(0.0)  Gray{N0f8}(0.0)     Gray{N0f8}(0.0)  Gray{N0f8}(0.0)\n",
       " Gray{N0f8}(0.0)  Gray{N0f8}(0.0)     Gray{N0f8}(0.0)  Gray{N0f8}(0.0)\n",
       " Gray{N0f8}(0.0)  Gray{N0f8}(0.0)  …  Gray{N0f8}(0.0)  Gray{N0f8}(0.0)\n",
       " Gray{N0f8}(0.0)  Gray{N0f8}(0.0)     Gray{N0f8}(0.0)  Gray{N0f8}(0.0)\n",
       " Gray{N0f8}(0.0)  Gray{N0f8}(0.0)     Gray{N0f8}(0.0)  Gray{N0f8}(0.0)"
      ]
     },
     "metadata": {},
     "output_type": "display_data"
    }
   ],
   "source": [
    "img4 = Gray.(img) #converts to grayscale"
   ]
  },
  {
   "cell_type": "code",
   "execution_count": 30,
   "metadata": {},
   "outputs": [
    {
     "data": {
      "image/png": "[encoded data removed]",
      "text/html": [
       "<img src=\"data:image/png;base64,iVBORw0KGgoAAAANSUhEUgAAAHAAAABwCAIAAABJgmMcAAAABGdBTUEAALGPC/xhBQAAAAFzUkdCAK7OHOkAAAAgY0hSTQAAeiYAAICEAAD6AAAAgOgAAHUwAADqYAAAOpgAABdwnLpRPAAABCNJREFUeAHtwTFIlA8Yx/Hvmw8dF+ENDhlEW23hcVLUVDhqVOQQEt4aRiAUBw1X3NRQOaiQBhEUBTY0KEmEILwQOGRWs1sIB5UE6ZLDvf/ptwmRPK/nP57PxwiujODKCK6M4MoIrozgygiujODKCK6M4MoIrozgygiujODKCK6M4Mr4S1NTU8jIyAjt0Nvbi9y4cQOpVqvI8+fPkcnJSWRlZYU8GcGVEVwZwZXxl0ZGRmiHcrmMLCwsIJ2dnUiWZcjw8DBy4cIFpKurizwZwZURXBnBlbGHnTp1Cnn9+jVSKpWQLMuQjY0NZGtrC+nq6kLOnDmDfPz4Edna2sKDEVwZwZURXBl7wIEDB5BKpYK8ePECOXz4MH+yurqK3L9/H5mZmUHev3+P3LlzB7l37x4ejODKCK6M4MrYAx4/fowMDQ2xU5VKBTl48CCSpily7tw55MSJE3gzgisjuDKCK6NNent7kYGBASRJEraTpiny5s0b5MGDB0iz2UQ+ffqE/Pz5E+nr60OSJMGbEVwZwZURXBm7qFwuIwsLC0hnZyeSZRny9u1bZGhoCDl79ixSr9eRJ0+eIN+/f0e+fPmCtFotZGBgAKlUKsjKygo7ZQRXRnBlBFdGzo4fP47UajWkVCohP378QJrNJvLs2TNkc3MTmZ+fR+bn59mpYrGI3Lp1C7l69So7ZQRXRnBlBFdGDgqFAvLw4UOkv78f2djYQKrVKrK8vIwUi0V2y9GjR/FgBFdGcGUEV0YOKpUK0t/fz3YuXryIpGnKv8IIrozgygiujByMjY0hSZIgaZoiaZrSDvv27UNarRaSJAkejODKCK6M4Mpwcv78eaRcLiNZliFzc3O0W6vVQrIsQz5//owHI7gygisjuDKcFItFZP/+/ci3b9+QV69esVsKhQLSaDTYzuLiInL79m08GMGVEVwZwZWRs9+/fyPNZpM8FQoFpF6vI7VaDVlbW0PGxsaQzc1NPBjBlRFcGcGVkbO5uTnyVC6XkVqthly5cgWZnZ1FBgcHyZMRXBnBlRFcGU6SJEGSJEEuXbqEjI6O4uHmzZtIvV5HSqUS8vLlS6RarbJbjODKCK6M4MpwkmUZkmUZ0t3djUxMTCBPnz5F1tfXkdOnTyPDw8NIT08PcuTIEeTr16/Iu3fvkEePHtEORnBlBFdGcGXkrKOjA7l+/ToyODiI/Pr1Czl27Bh/srS0hCwuLiJ3796l3YzgygiujODKcLK0tIR8+PABOXnyJNvp7u5GDh06xHbW19eRmZkZZHR0lL3KCK6M4MoIrgwna2tryOXLl5Fr164h9XqdPxkfH0emp6eR1dVV/g+M4MoIrozgyshBs9lEGo0G0mg0+NcZwZURXBnBlRFcGcGVEVwZwZURXBnBlRFcGcGVEVwZwZURXBnB1X//VgqEkyelFgAAAABJRU5ErkJg\">"
      ],
      "text/plain": [
       "28×28 Array{RGB{N0f8},2} with eltype RGB{N0f8}:\n",
       " RGB{N0f8}(0.0,0.0,0.0)  RGB{N0f8}(0.0,0.0,0.0)  …  RGB{N0f8}(0.0,0.0,0.0)\n",
       " RGB{N0f8}(0.0,0.0,0.0)  RGB{N0f8}(0.0,0.0,0.0)     RGB{N0f8}(0.0,0.0,0.0)\n",
       " RGB{N0f8}(0.0,0.0,0.0)  RGB{N0f8}(0.0,0.0,0.0)     RGB{N0f8}(0.0,0.0,0.0)\n",
       " RGB{N0f8}(0.0,0.0,0.0)  RGB{N0f8}(0.0,0.0,0.0)     RGB{N0f8}(0.0,0.0,0.0)\n",
       " RGB{N0f8}(0.0,0.0,0.0)  RGB{N0f8}(0.0,0.0,0.0)     RGB{N0f8}(0.0,0.0,0.0)\n",
       " RGB{N0f8}(0.0,0.0,0.0)  RGB{N0f8}(0.0,0.0,0.0)  …  RGB{N0f8}(0.0,0.0,0.0)\n",
       " RGB{N0f8}(0.0,0.0,0.0)  RGB{N0f8}(0.0,0.0,0.0)     RGB{N0f8}(0.0,0.0,0.0)\n",
       " RGB{N0f8}(0.0,0.0,0.0)  RGB{N0f8}(0.0,0.0,0.0)     RGB{N0f8}(0.0,0.0,0.0)\n",
       " RGB{N0f8}(0.0,0.0,0.0)  RGB{N0f8}(0.0,0.0,0.0)     RGB{N0f8}(0.0,0.0,0.0)\n",
       " RGB{N0f8}(0.0,0.0,0.0)  RGB{N0f8}(0.0,0.0,0.0)     RGB{N0f8}(0.0,0.0,0.0)\n",
       " ⋮                                               ⋱  \n",
       " RGB{N0f8}(0.0,0.0,0.0)  RGB{N0f8}(0.0,0.0,0.0)     RGB{N0f8}(0.0,0.0,0.0)\n",
       " RGB{N0f8}(0.0,0.0,0.0)  RGB{N0f8}(0.0,0.0,0.0)  …  RGB{N0f8}(0.0,0.0,0.0)\n",
       " RGB{N0f8}(0.0,0.0,0.0)  RGB{N0f8}(0.0,0.0,0.0)     RGB{N0f8}(0.0,0.0,0.0)\n",
       " RGB{N0f8}(0.0,0.0,0.0)  RGB{N0f8}(0.0,0.0,0.0)     RGB{N0f8}(0.0,0.0,0.0)\n",
       " RGB{N0f8}(0.0,0.0,0.0)  RGB{N0f8}(0.0,0.0,0.0)     RGB{N0f8}(0.0,0.0,0.0)\n",
       " RGB{N0f8}(0.0,0.0,0.0)  RGB{N0f8}(0.0,0.0,0.0)     RGB{N0f8}(0.0,0.0,0.0)\n",
       " RGB{N0f8}(0.0,0.0,0.0)  RGB{N0f8}(0.0,0.0,0.0)  …  RGB{N0f8}(0.0,0.0,0.0)\n",
       " RGB{N0f8}(0.0,0.0,0.0)  RGB{N0f8}(0.0,0.0,0.0)     RGB{N0f8}(0.0,0.0,0.0)\n",
       " RGB{N0f8}(0.0,0.0,0.0)  RGB{N0f8}(0.0,0.0,0.0)     RGB{N0f8}(0.0,0.0,0.0)"
      ]
     },
     "metadata": {},
     "output_type": "display_data"
    }
   ],
   "source": [
    "img5=RGB.(img) #convert to RGB"
   ]
  },
  {
   "cell_type": "code",
   "execution_count": 32,
   "metadata": {},
   "outputs": [
    {
     "data": {
      "image/png": "[encoded data removed]",
      "text/html": [
       "<img src=\"data:image/png;base64,iVBORw0KGgoAAAANSUhEUgAAAHAAAABwCAAAAADji6uXAAAABGdBTUEAALGPC/xhBQAAAAFzUkdCAK7OHOkAAAAgY0hSTQAAeiYAAICEAAD6AAAAgOgAAHUwAADqYAAAOpgAABdwnLpRPAAAAjpJREFUaAW9wT2IFgQABuDnO15s0SCs4EDcnCurQQg+ECTCsKEhoSiIoB+oBquh6agbgsNAiKT1RKTBqEjHqKkoPC7aaosgGxxOouOC+hpuOPC+v7N4nycjXVEWZVEWZVEWZVEWZVEWZVEWZVEWZVEWt3gZ583nGj7AKp7FqzhquiiLsiiLW5w3n3WcwE0McAGf44bpoizKoixuw3d4EhsY4AD24Qa+wYPYZ7woi7Ioiz34E2t4Br/ZcQRv4TQewbt423hRFmVRFnvwIi7ZbQ1/YIiv8KPJoizKoizmdA1XMLJtiMfxJhbxAO7ClxiZLMqiLMpiDus4gZsY4DFcwtdYxgu4B/dhAVewhqN2i7Ioi7KY4SesYAN3YxHPYT9O4qTdNnEWF+0WZVEWZTHFFt7AVRzAKh7Cptl+MV6URVmUxRRruGrbZxj676IsyqIspjiDEYYYms8/WMDIeFEWZVEWE3yBdQxwyvwWMMD9xouyKIuymGATf+FePGW2LSzZdhzvGS/KoizKYoY7sGi6LSxjBYdwBvuNF2VRFmUxwynTrWMFH+MJXDZdlEVZlMUEI4zwKc4Z730sYwNPY9VsURZlURYTDDDAdbyG53EQ3+ICfsCvOIxH8Yr5RFmURVnM8Dc+xGXciZ/tOIbjeMf8oizKoiwmOIaH8b1t1/G7bQdxGufsXZRFWZTFBIfwCT7Csh2v4yUccXuiLMqiLKZYxBKW/H+iLMqiLMqiLMqiLMqiLMqiLMqiLMqi7F+vmluEkcQiHgAAAABJRU5ErkJg\">"
      ],
      "text/plain": [
       "28×28 Array{Gray{N0f8},2} with eltype Gray{N0f8}:\n",
       " Gray{N0f8}(1.0)  Gray{N0f8}(1.0)  …  Gray{N0f8}(1.0)  Gray{N0f8}(1.0)\n",
       " Gray{N0f8}(1.0)  Gray{N0f8}(1.0)     Gray{N0f8}(1.0)  Gray{N0f8}(1.0)\n",
       " Gray{N0f8}(1.0)  Gray{N0f8}(1.0)     Gray{N0f8}(1.0)  Gray{N0f8}(1.0)\n",
       " Gray{N0f8}(1.0)  Gray{N0f8}(1.0)     Gray{N0f8}(1.0)  Gray{N0f8}(1.0)\n",
       " Gray{N0f8}(1.0)  Gray{N0f8}(1.0)     Gray{N0f8}(1.0)  Gray{N0f8}(1.0)\n",
       " Gray{N0f8}(1.0)  Gray{N0f8}(1.0)  …  Gray{N0f8}(1.0)  Gray{N0f8}(1.0)\n",
       " Gray{N0f8}(1.0)  Gray{N0f8}(1.0)     Gray{N0f8}(1.0)  Gray{N0f8}(1.0)\n",
       " Gray{N0f8}(1.0)  Gray{N0f8}(1.0)     Gray{N0f8}(1.0)  Gray{N0f8}(1.0)\n",
       " Gray{N0f8}(1.0)  Gray{N0f8}(1.0)     Gray{N0f8}(1.0)  Gray{N0f8}(1.0)\n",
       " Gray{N0f8}(1.0)  Gray{N0f8}(1.0)     Gray{N0f8}(1.0)  Gray{N0f8}(1.0)\n",
       " ⋮                                 ⋱                   \n",
       " Gray{N0f8}(1.0)  Gray{N0f8}(1.0)     Gray{N0f8}(1.0)  Gray{N0f8}(1.0)\n",
       " Gray{N0f8}(1.0)  Gray{N0f8}(1.0)  …  Gray{N0f8}(1.0)  Gray{N0f8}(1.0)\n",
       " Gray{N0f8}(1.0)  Gray{N0f8}(1.0)     Gray{N0f8}(1.0)  Gray{N0f8}(1.0)\n",
       " Gray{N0f8}(1.0)  Gray{N0f8}(1.0)     Gray{N0f8}(1.0)  Gray{N0f8}(1.0)\n",
       " Gray{N0f8}(1.0)  Gray{N0f8}(1.0)     Gray{N0f8}(1.0)  Gray{N0f8}(1.0)\n",
       " Gray{N0f8}(1.0)  Gray{N0f8}(1.0)     Gray{N0f8}(1.0)  Gray{N0f8}(1.0)\n",
       " Gray{N0f8}(1.0)  Gray{N0f8}(1.0)  …  Gray{N0f8}(1.0)  Gray{N0f8}(1.0)\n",
       " Gray{N0f8}(1.0)  Gray{N0f8}(1.0)     Gray{N0f8}(1.0)  Gray{N0f8}(1.0)\n",
       " Gray{N0f8}(1.0)  Gray{N0f8}(1.0)     Gray{N0f8}(1.0)  Gray{N0f8}(1.0)"
      ]
     },
     "metadata": {},
     "output_type": "display_data"
    }
   ],
   "source": [
    "img6 = (x-> Gray(1)-x.val).(img) #applied function to image! (This is how i will make an input attack)"
   ]
  },
  {
   "cell_type": "code",
   "execution_count": 33,
   "metadata": {},
   "outputs": [
    {
     "data": {
      "image/png": "[encoded data removed]",
      "text/html": [
       "<img src=\"data:image/png;base64,iVBORw0KGgoAAAANSUhEUgAAAGQAAABkCAAAAABVicqIAAAABGdBTUEAALGPC/xhBQAAAAFzUkdCAK7OHOkAAAAgY0hSTQAAeiYAAICEAAD6AAAAgOgAAHUwAADqYAAAOpgAABdwnLpRPAAABJxJREFUaAW9wdtPlOkdAODnG34gh0FBQNCguwriaT2gbm2qbTZt0ia972Wb/n29aO/aJs22Sbs2rqu0a3WV9YCI6HhEEHBmnOFrjBdVmBkxad7nCQmEBEICIYGQQEggJBASCAmEBEICIYHwjjZFmWU1rRWETl22CGVlZVU1zYUEwjuKzgrnPdNat0ETjhg34KYbvjPvqTXNhATCOzKhXaaVNlvsMem44w4YMG2PYd94oaqZkEB4x7LzMota6TDkc7/2iX5d2o0bdkLRv1Q1ExII76h5ppWColGf+8IR/UJdXbt+ffYaxqpcbqOQQPgIbQYd9SsnbNeGmqq6Nl367fFaRV1uo5BA2JSCNlvt8GNn7denTWbNisdu63DaAb912ZRbSjYKCYRN6dBj1EG/8CPbdMi88UrJBR3GjZkwaouXSjYKCYRNGXfWYQeN6RXeyvTZqdeK+7oMKxrRrZGQQPigNu3G/NxnxrCmoqKiW68uRZklN3Ub1KXPFo2EBMIHdRoy5rBBGcoemDPrkDPKFj1y06ouR2UyjYUEQkttOn3itJNGdFnz0n3fuOuZum0emDZtxhOfqumxw3ZFZTXvCwmElsKgk37joG4Fr8276HeeG1GwaMpVJcsKTqsbcshew0pq3hcSCE1lugw5atK4Pq9VLbnhijsWLHtq2l3zqmqoyG3R76BjXlnxvpBAaCrTa7cfmNQns2LJI9dcs+C55zLkcv9T0Omwx6Y98L6QQGiioNOks874VOa6C0oemfNQRY7cRgU9+rRbLyQQmghFJ/zUhE4L/u0P7nsirKlqJtOlR1gvJBCa2Gq3cft0u+vPzrtuRVkmV/OxQgKhiRHH7TOgbNbffOuhXGuZZkICoYkDfmmPqgduu+WJXCuZTOaNzEYhgdBAt632O2q7ijkzFpR9WC63aknNeiGB0ECfCWN26vDUjHuqPiSXY80Lj1WsFxIIDYQeXTrULPjeHRXNFfTb64DwQslFX3tuvZBAaKCgXbs2q5773oyKZjLtRvzEMaHkhq98pWK9kEBoKremasWqNY0V9DrkjJ8Zs+KGf5hTtWa9kEBo4ZWXllU00ib02uWHzjkiN+2yrz1Us1FIIDRVN++WFY0VDTpu0hk7lVzyJ7NKljUSEggt5NbkNurWb58Jp3xmhyUXfelLZc2EBEIDmQxtRu1XtNEOp51zzoAOMy74vWlVzYUEQkM5Crba7bgVT5TVFPUa1KfbJ46ZMKrisf+YcsszrYQEQgO5tzrt8oVOlzy1atRekw7Yach2Vcvm3HTBVStaCwmEFgp6HbPNfotW7bTLLkN6ZRaVzLvkW7NKqloLCYQGcnU1dQU9DtrntLKyAX1yubrHbrvjlr+4bDNCAqGBZffMum9AEaGoU12nXMUL90z5u0cWzduckEBoYNVD06aMGVXUoRO5FQuemnPVP/3Vss0LCYQGqhZd8MxJp5wy4q0ZV1wx7b6Sso8REggN1NXds2DJE48MeyP3nWtumLWk6uOEBEITFa9Nue6Pwltlr5RV1X2skEBoYs2aZcv+H0ICIYGQQEggJBASCAmEBEICIYGQwH8BTeJr51cig58AAAAASUVORK5C\">"
      ],
      "text/plain": [
       "50×50 Array{Gray{N0f8},2} with eltype Gray{N0f8}:\n",
       " Gray{N0f8}(0.0)  Gray{N0f8}(0.0)  …  Gray{N0f8}(0.0)  Gray{N0f8}(0.0)\n",
       " Gray{N0f8}(0.0)  Gray{N0f8}(0.0)     Gray{N0f8}(0.0)  Gray{N0f8}(0.0)\n",
       " Gray{N0f8}(0.0)  Gray{N0f8}(0.0)     Gray{N0f8}(0.0)  Gray{N0f8}(0.0)\n",
       " Gray{N0f8}(0.0)  Gray{N0f8}(0.0)     Gray{N0f8}(0.0)  Gray{N0f8}(0.0)\n",
       " Gray{N0f8}(0.0)  Gray{N0f8}(0.0)     Gray{N0f8}(0.0)  Gray{N0f8}(0.0)\n",
       " Gray{N0f8}(0.0)  Gray{N0f8}(0.0)  …  Gray{N0f8}(0.0)  Gray{N0f8}(0.0)\n",
       " Gray{N0f8}(0.0)  Gray{N0f8}(0.0)     Gray{N0f8}(0.0)  Gray{N0f8}(0.0)\n",
       " Gray{N0f8}(0.0)  Gray{N0f8}(0.0)     Gray{N0f8}(0.0)  Gray{N0f8}(0.0)\n",
       " Gray{N0f8}(0.0)  Gray{N0f8}(0.0)     Gray{N0f8}(0.0)  Gray{N0f8}(0.0)\n",
       " Gray{N0f8}(0.0)  Gray{N0f8}(0.0)     Gray{N0f8}(0.0)  Gray{N0f8}(0.0)\n",
       " ⋮                                 ⋱                   \n",
       " Gray{N0f8}(0.0)  Gray{N0f8}(0.0)     Gray{N0f8}(0.0)  Gray{N0f8}(0.0)\n",
       " Gray{N0f8}(0.0)  Gray{N0f8}(0.0)     Gray{N0f8}(0.0)  Gray{N0f8}(0.0)\n",
       " Gray{N0f8}(0.0)  Gray{N0f8}(0.0)     Gray{N0f8}(0.0)  Gray{N0f8}(0.0)\n",
       " Gray{N0f8}(0.0)  Gray{N0f8}(0.0)     Gray{N0f8}(0.0)  Gray{N0f8}(0.0)\n",
       " Gray{N0f8}(0.0)  Gray{N0f8}(0.0)  …  Gray{N0f8}(0.0)  Gray{N0f8}(0.0)\n",
       " Gray{N0f8}(0.0)  Gray{N0f8}(0.0)     Gray{N0f8}(0.0)  Gray{N0f8}(0.0)\n",
       " Gray{N0f8}(0.0)  Gray{N0f8}(0.0)     Gray{N0f8}(0.0)  Gray{N0f8}(0.0)\n",
       " Gray{N0f8}(0.0)  Gray{N0f8}(0.0)     Gray{N0f8}(0.0)  Gray{N0f8}(0.0)\n",
       " Gray{N0f8}(0.0)  Gray{N0f8}(0.0)     Gray{N0f8}(0.0)  Gray{N0f8}(0.0)"
      ]
     },
     "metadata": {},
     "output_type": "display_data"
    }
   ],
   "source": [
    "img6 = imresize(img,(50,50)) #change resolution"
   ]
  },
  {
   "cell_type": "code",
   "execution_count": 3,
   "metadata": {},
   "outputs": [
    {
     "data": {
      "text/plain": [
       "28×28 Matrix{Float32}:\n",
       " 0.0  0.0  0.0  0.0  0.0  0.0  0.0       …  0.0  0.0  0.0  0.0  0.0  0.0\n",
       " 0.0  0.0  0.0  0.0  0.0  0.0  0.0          0.0  0.0  0.0  0.0  0.0  0.0\n",
       " 0.0  0.0  0.0  0.0  0.0  0.0  0.0          0.0  0.0  0.0  0.0  0.0  0.0\n",
       " 0.0  0.0  0.0  0.0  0.0  0.0  0.0          0.0  0.0  0.0  0.0  0.0  0.0\n",
       " 0.0  0.0  0.0  0.0  0.0  0.0  0.0          0.0  0.0  0.0  0.0  0.0  0.0\n",
       " 0.0  0.0  0.0  0.0  0.0  0.0  0.0       …  0.0  0.0  0.0  0.0  0.0  0.0\n",
       " 0.0  0.0  0.0  0.0  0.0  0.0  0.0          0.0  0.0  0.0  0.0  0.0  0.0\n",
       " 0.0  0.0  0.0  0.0  0.0  0.0  0.0          0.0  0.0  0.0  0.0  0.0  0.0\n",
       " 0.0  0.0  0.0  0.0  0.0  0.0  0.0          0.0  0.0  0.0  0.0  0.0  0.0\n",
       " 0.0  0.0  0.0  0.0  0.0  0.0  0.0          0.0  0.0  0.0  0.0  0.0  0.0\n",
       " ⋮                        ⋮              ⋱                 ⋮         \n",
       " 0.0  0.0  0.0  0.0  0.0  0.0  0.337255     0.0  0.0  0.0  0.0  0.0  0.0\n",
       " 0.0  0.0  0.0  0.0  0.0  0.0  0.333333  …  0.0  0.0  0.0  0.0  0.0  0.0\n",
       " 0.0  0.0  0.0  0.0  0.0  0.0  0.333333     0.0  0.0  0.0  0.0  0.0  0.0\n",
       " 0.0  0.0  0.0  0.0  0.0  0.0  0.109804     0.0  0.0  0.0  0.0  0.0  0.0\n",
       " 0.0  0.0  0.0  0.0  0.0  0.0  0.0          0.0  0.0  0.0  0.0  0.0  0.0\n",
       " 0.0  0.0  0.0  0.0  0.0  0.0  0.0          0.0  0.0  0.0  0.0  0.0  0.0\n",
       " 0.0  0.0  0.0  0.0  0.0  0.0  0.0       …  0.0  0.0  0.0  0.0  0.0  0.0\n",
       " 0.0  0.0  0.0  0.0  0.0  0.0  0.0          0.0  0.0  0.0  0.0  0.0  0.0\n",
       " 0.0  0.0  0.0  0.0  0.0  0.0  0.0          0.0  0.0  0.0  0.0  0.0  0.0"
      ]
     },
     "metadata": {},
     "output_type": "display_data"
    }
   ],
   "source": [
    "data = Float32.(channelview(img))"
   ]
  },
  {
   "cell_type": "code",
   "execution_count": 6,
   "metadata": {},
   "outputs": [],
   "source": [
    "path = \"C://Users/Jash/OneDrive - University of Cincinnati/Desktop/Research/training/\"\n",
    "X = []\n",
    "y = []\n",
    "for label in readdir(path)\n",
    "    for file in readdir(\"$path/$label\")\n",
    "        img = load(\"$path/$label/$file\")\n",
    "        data = reshape(Float32.(channelview(img)),28,28,1)\n",
    "        if length(X) == 0\n",
    "            X = data\n",
    "        else\n",
    "            X = cat(X, data, dims=3)\n",
    "        end\n",
    "        #push!(X, Float32.(channelview(load(path*label*\"/\"*file))))\n",
    "        push!(y, parse(Float32, label))\n",
    "    end\n",
    "end"
   ]
  },
  {
   "cell_type": "code",
   "execution_count": 4,
   "metadata": {},
   "outputs": [
    {
     "data": {
      "text/plain": [
       "createDataset (generic function with 1 method)"
      ]
     },
     "metadata": {},
     "output_type": "display_data"
    }
   ],
   "source": [
    "using Images\n",
    "function createDataset(path)\n",
    "    X = []\n",
    "    y = []\n",
    "    for label in readdir(path)\n",
    "        for file in readdir(\"$path/$label\")\n",
    "            img = load(\"$path/$label/$file\")\n",
    "            data = reshape(Float32.(channelview(img)),28,28,1)\n",
    "            if length(X) == 0\n",
    "                X = data\n",
    "            else\n",
    "                X = cat(X,data,dims=3)\n",
    "            end\n",
    "            push!(y,parse(Float32,label))\n",
    "        end\n",
    "    end\n",
    "    return X,y\n",
    "end\n",
    "\n"
   ]
  },
  {
   "cell_type": "code",
   "execution_count": 6,
   "metadata": {},
   "outputs": [
    {
     "data": {
      "text/plain": [
       "([0.0 0.0 … 0.0 0.0; 0.0 0.0 … 0.0 0.0; … ; 0.0 0.0 … 0.0 0.0; 0.0 0.0 … 0.0 0.0;;; 0.0 0.0 … 0.0 0.0; 0.0 0.0 … 0.0 0.0; … ; 0.0 0.0 … 0.0 0.0; 0.0 0.0 … 0.0 0.0;;; 0.0 0.0 … 0.0 0.0; 0.0 0.0 … 0.0 0.0; … ; 0.0 0.0 … 0.0 0.0; 0.0 0.0 … 0.0 0.0;;; … ;;; 0.0 0.0 … 0.0 0.0; 0.0 0.0 … 0.0 0.0; … ; 0.0 0.0 … 0.0 0.0; 0.0 0.0 … 0.0 0.0;;; 0.0 0.0 … 0.0 0.0; 0.0 0.0 … 0.0 0.0; … ; 0.0 0.0 … 0.0 0.0; 0.0 0.0 … 0.0 0.0;;; 0.0 0.0 … 0.0 0.0; 0.0 0.0 … 0.0 0.0; … ; 0.0 0.0 … 0.0 0.0; 0.0 0.0 … 0.0 0.0], Any[0.0f0, 0.0f0, 0.0f0, 0.0f0, 0.0f0, 0.0f0, 0.0f0, 0.0f0, 0.0f0, 0.0f0  …  9.0f0, 9.0f0, 9.0f0, 9.0f0, 9.0f0, 9.0f0, 9.0f0, 9.0f0, 9.0f0, 9.0f0])"
      ]
     },
     "metadata": {},
     "output_type": "display_data"
    }
   ],
   "source": [
    "x_test, y_test = createDataset(\"C://Users/Jash/OneDrive - University of Cincinnati/Desktop/Research/testing\")"
   ]
  },
  {
   "cell_type": "code",
   "execution_count": 8,
   "metadata": {},
   "outputs": [
    {
     "data": {
      "text/plain": [
       "Chain(\n",
       "  Flux.flatten,\n",
       "  Dense(784 => 15, relu),               \u001b[90m# 11_775 parameters\u001b[39m\n",
       "  Dense(15 => 10, σ),                   \u001b[90m# 160 parameters\u001b[39m\n",
       "  NNlib.softmax,\n",
       ") \u001b[90m                  # Total: 4 arrays, \u001b[39m11_935 parameters, 46.871 KiB."
      ]
     },
     "metadata": {},
     "output_type": "display_data"
    }
   ],
   "source": [
    "using Flux\n",
    "model = Chain(\n",
    "    Flux.flatten,\n",
    "    Dense(784=>15,relu),\n",
    "    Dense(15=>10,sigmoid),\n",
    "    softmax\n",
    ")"
   ]
  },
  {
   "cell_type": "code",
   "execution_count": 9,
   "metadata": {},
   "outputs": [
    {
     "data": {
      "text/plain": [
       "10×1 Matrix{Float32}:\n",
       " 0.10200545\n",
       " 0.09752182\n",
       " 0.093935795\n",
       " 0.09848465\n",
       " 0.1025097\n",
       " 0.10099105\n",
       " 0.10772559\n",
       " 0.092483655\n",
       " 0.10102729\n",
       " 0.10331503"
      ]
     },
     "metadata": {},
     "output_type": "display_data"
    }
   ],
   "source": [
    "\n",
    "predict = model(Flux.unsqueeze(x_train[:,:,1],dims=3))"
   ]
  },
  {
   "cell_type": "code",
   "execution_count": 10,
   "metadata": {},
   "outputs": [
    {
     "data": {
      "text/plain": [
       "0.0f0"
      ]
     },
     "metadata": {},
     "output_type": "display_data"
    }
   ],
   "source": [
    "y_train[1]"
   ]
  },
  {
   "cell_type": "code",
   "execution_count": 5,
   "metadata": {},
   "outputs": [
    {
     "data": {
      "text/plain": [
       "([0.0 0.0 … 0.0 0.0; 0.0 0.0 … 0.0 0.0; … ; 0.0 0.0 … 0.0 0.0; 0.0 0.0 … 0.0 0.0;;; 0.0 0.0 … 0.0 0.0; 0.0 0.0 … 0.0 0.0; … ; 0.0 0.0 … 0.0 0.0; 0.0 0.0 … 0.0 0.0;;; 0.0 0.0 … 0.0 0.0; 0.0 0.0 … 0.0 0.0; … ; 0.0 0.0 … 0.0 0.0; 0.0 0.0 … 0.0 0.0;;; … ;;; 0.0 0.0 … 0.0 0.0; 0.0 0.0 … 0.0 0.0; … ; 0.0 0.0 … 0.0 0.0; 0.0 0.0 … 0.0 0.0;;; 0.0 0.0 … 0.0 0.0; 0.0 0.0 … 0.0 0.0; … ; 0.0 0.0 … 0.0 0.0; 0.0 0.0 … 0.0 0.0;;; 0.0 0.0 … 0.0 0.0; 0.0 0.0 … 0.0 0.0; … ; 0.0 0.0 … 0.0 0.0; 0.0 0.0 … 0.0 0.0], Any[0.0f0, 0.0f0, 0.0f0, 0.0f0, 0.0f0, 0.0f0, 0.0f0, 0.0f0, 0.0f0, 0.0f0  …  9.0f0, 9.0f0, 9.0f0, 9.0f0, 9.0f0, 9.0f0, 9.0f0, 9.0f0, 9.0f0, 9.0f0])"
      ]
     },
     "metadata": {},
     "output_type": "display_data"
    }
   ],
   "source": [
    "x_train, y_train = createDataset(\"C://Users/Jash/OneDrive - University of Cincinnati/Desktop/Research/training\")"
   ]
  },
  {
   "cell_type": "code",
   "execution_count": 11,
   "metadata": {},
   "outputs": [],
   "source": [
    "# Assemble the training data\n",
    "data = Flux.DataLoader((x_train,y_train), shuffle=true)\n",
    "\n",
    "# Initialize the ADAM optimizer with default settings\n",
    "optimizer = Flux.setup(Adam(), model)\n",
    "\n",
    "# Define the loss function that uses the cross-entropy to \n",
    "# measure the error by comparing model predictions of data \n",
    "# row \"x\" with true data label in the \"y\"\n",
    "function loss(model, x, y)\n",
    "\treturn Flux.crossentropy(model(x),Flux.onehotbatch(y,0:9))\n",
    "end\n",
    "\n",
    "# Train the model 10 times in a loop\n",
    "for epoch in 1:10\n",
    "\tFlux.train!(loss, model, data, optimizer)\n",
    "end"
   ]
  },
  {
   "cell_type": "code",
   "execution_count": 12,
   "metadata": {},
   "outputs": [
    {
     "data": {
      "text/plain": [
       "10×1 Matrix{Float32}:\n",
       " 0.23196934\n",
       " 0.08533675\n",
       " 0.08533675\n",
       " 0.08533675\n",
       " 0.08533675\n",
       " 0.08533675\n",
       " 0.08533675\n",
       " 0.08533675\n",
       " 0.08533675\n",
       " 0.08533675"
      ]
     },
     "metadata": {},
     "output_type": "display_data"
    }
   ],
   "source": [
    "predict = model(Flux.unsqueeze(x_train[:,:,1],dims=3)) # correct prediction !"
   ]
  },
  {
   "cell_type": "code",
   "execution_count": 13,
   "metadata": {},
   "outputs": [
    {
     "data": {
      "text/plain": [
       "accuracy (generic function with 1 method)"
      ]
     },
     "metadata": {},
     "output_type": "display_data"
    }
   ],
   "source": [
    "function accuracy()\n",
    "    correct = 0\n",
    "    for index in 1:length(y_test)\n",
    "        probs = model(Flux.unsqueeze(x_test[:,:,index],dims=3))\n",
    "        predicted_digit = argmax(probs)[1]-1\n",
    "        if predicted_digit == y_test[index]\n",
    "            correct +=1\n",
    "        end\n",
    "    end\n",
    "    return correct/length(y_test)\n",
    "end"
   ]
  },
  {
   "cell_type": "code",
   "execution_count": 14,
   "metadata": {},
   "outputs": [
    {
     "name": "stdout",
     "output_type": "stream",
     "text": [
      "0.9244"
     ]
    },
    {
     "name": "stdout",
     "output_type": "stream",
     "text": [
      "\n",
      "0.9187\n"
     ]
    },
    {
     "name": "stdout",
     "output_type": "stream",
     "text": [
      "0.9264\n"
     ]
    },
    {
     "name": "stdout",
     "output_type": "stream",
     "text": [
      "0.9247\n"
     ]
    },
    {
     "name": "stdout",
     "output_type": "stream",
     "text": [
      "0.92\n"
     ]
    },
    {
     "name": "stdout",
     "output_type": "stream",
     "text": [
      "0.916\n"
     ]
    },
    {
     "name": "stdout",
     "output_type": "stream",
     "text": [
      "0.9193\n"
     ]
    },
    {
     "name": "stdout",
     "output_type": "stream",
     "text": [
      "0.9233\n"
     ]
    },
    {
     "name": "stdout",
     "output_type": "stream",
     "text": [
      "0.9131\n"
     ]
    },
    {
     "name": "stdout",
     "output_type": "stream",
     "text": [
      "0.9094\n"
     ]
    }
   ],
   "source": [
    "for epoch in 1:10\n",
    "    Flux.train!(loss, model, data, optimizer)\n",
    "    println(accuracy())\n",
    "end"
   ]
  },
  {
   "cell_type": "code",
   "execution_count": 16,
   "metadata": {},
   "outputs": [
    {
     "name": "stdout",
     "output_type": "stream",
     "text": [
      "0.9244\n"
     ]
    },
    {
     "name": "stdout",
     "output_type": "stream",
     "text": [
      "0.9309\n"
     ]
    },
    {
     "name": "stdout",
     "output_type": "stream",
     "text": [
      "0.9432\n"
     ]
    },
    {
     "name": "stdout",
     "output_type": "stream",
     "text": [
      "0.8933\n"
     ]
    },
    {
     "name": "stdout",
     "output_type": "stream",
     "text": [
      "0.9052\n"
     ]
    },
    {
     "name": "stdout",
     "output_type": "stream",
     "text": [
      "0.9391\n"
     ]
    },
    {
     "name": "stdout",
     "output_type": "stream",
     "text": [
      "0.9373\n"
     ]
    },
    {
     "name": "stdout",
     "output_type": "stream",
     "text": [
      "0.936\n"
     ]
    },
    {
     "name": "stdout",
     "output_type": "stream",
     "text": [
      "0.9468\n"
     ]
    },
    {
     "name": "stdout",
     "output_type": "stream",
     "text": [
      "0.9385\n"
     ]
    },
    {
     "name": "stdout",
     "output_type": "stream",
     "text": [
      "0.9146\n"
     ]
    },
    {
     "name": "stdout",
     "output_type": "stream",
     "text": [
      "0.9269\n"
     ]
    },
    {
     "name": "stdout",
     "output_type": "stream",
     "text": [
      "0.9526\n"
     ]
    },
    {
     "name": "stdout",
     "output_type": "stream",
     "text": [
      "0.9099\n"
     ]
    },
    {
     "name": "stdout",
     "output_type": "stream",
     "text": [
      "0.9425\n"
     ]
    },
    {
     "name": "stdout",
     "output_type": "stream",
     "text": [
      "0.9354\n"
     ]
    },
    {
     "name": "stdout",
     "output_type": "stream",
     "text": [
      "0.9452\n"
     ]
    },
    {
     "name": "stdout",
     "output_type": "stream",
     "text": [
      "0.9236\n"
     ]
    },
    {
     "name": "stdout",
     "output_type": "stream",
     "text": [
      "0.9141\n"
     ]
    },
    {
     "name": "stdout",
     "output_type": "stream",
     "text": [
      "0.9148\n"
     ]
    },
    {
     "name": "stdout",
     "output_type": "stream",
     "text": [
      "0.9351\n"
     ]
    },
    {
     "name": "stdout",
     "output_type": "stream",
     "text": [
      "0.9313\n"
     ]
    },
    {
     "name": "stdout",
     "output_type": "stream",
     "text": [
      "0.9391\n"
     ]
    },
    {
     "name": "stdout",
     "output_type": "stream",
     "text": [
      "0.9431\n"
     ]
    },
    {
     "name": "stdout",
     "output_type": "stream",
     "text": [
      "0.9407\n"
     ]
    },
    {
     "name": "stdout",
     "output_type": "stream",
     "text": [
      "0.9453\n"
     ]
    },
    {
     "name": "stdout",
     "output_type": "stream",
     "text": [
      "0.8807\n"
     ]
    },
    {
     "name": "stdout",
     "output_type": "stream",
     "text": [
      "0.9369\n"
     ]
    },
    {
     "name": "stdout",
     "output_type": "stream",
     "text": [
      "0.9408\n"
     ]
    },
    {
     "name": "stdout",
     "output_type": "stream",
     "text": [
      "0.9507\n"
     ]
    },
    {
     "name": "stdout",
     "output_type": "stream",
     "text": [
      "0.9314\n"
     ]
    },
    {
     "name": "stdout",
     "output_type": "stream",
     "text": [
      "0.9506\n"
     ]
    },
    {
     "name": "stdout",
     "output_type": "stream",
     "text": [
      "0.9215\n"
     ]
    },
    {
     "name": "stdout",
     "output_type": "stream",
     "text": [
      "0.9304\n"
     ]
    },
    {
     "name": "stdout",
     "output_type": "stream",
     "text": [
      "0.9502\n"
     ]
    },
    {
     "name": "stdout",
     "output_type": "stream",
     "text": [
      "0.9538\n"
     ]
    },
    {
     "name": "stdout",
     "output_type": "stream",
     "text": [
      "0.936\n"
     ]
    },
    {
     "name": "stdout",
     "output_type": "stream",
     "text": [
      "0.9414\n"
     ]
    },
    {
     "name": "stdout",
     "output_type": "stream",
     "text": [
      "0.9408\n"
     ]
    },
    {
     "name": "stdout",
     "output_type": "stream",
     "text": [
      "0.9384\n"
     ]
    },
    {
     "name": "stdout",
     "output_type": "stream",
     "text": [
      "0.9309\n"
     ]
    },
    {
     "name": "stdout",
     "output_type": "stream",
     "text": [
      "0.9408\n"
     ]
    },
    {
     "name": "stdout",
     "output_type": "stream",
     "text": [
      "0.9312\n"
     ]
    },
    {
     "name": "stdout",
     "output_type": "stream",
     "text": [
      "0.9304\n"
     ]
    },
    {
     "name": "stdout",
     "output_type": "stream",
     "text": [
      "0.9397\n"
     ]
    },
    {
     "name": "stdout",
     "output_type": "stream",
     "text": [
      "0.9339\n"
     ]
    },
    {
     "name": "stdout",
     "output_type": "stream",
     "text": [
      "0.9335\n"
     ]
    },
    {
     "name": "stdout",
     "output_type": "stream",
     "text": [
      "0.9306\n"
     ]
    },
    {
     "name": "stdout",
     "output_type": "stream",
     "text": [
      "0.9416\n"
     ]
    },
    {
     "name": "stdout",
     "output_type": "stream",
     "text": [
      "0.9576\n"
     ]
    },
    {
     "name": "stdout",
     "output_type": "stream",
     "text": [
      "0.9474\n"
     ]
    },
    {
     "name": "stdout",
     "output_type": "stream",
     "text": [
      "0.9396\n"
     ]
    },
    {
     "name": "stdout",
     "output_type": "stream",
     "text": [
      "0.9525\n"
     ]
    },
    {
     "name": "stdout",
     "output_type": "stream",
     "text": [
      "0.9356\n"
     ]
    },
    {
     "name": "stdout",
     "output_type": "stream",
     "text": [
      "0.9429\n"
     ]
    },
    {
     "name": "stdout",
     "output_type": "stream",
     "text": [
      "0.9389\n"
     ]
    },
    {
     "name": "stdout",
     "output_type": "stream",
     "text": [
      "0.9269\n"
     ]
    },
    {
     "name": "stdout",
     "output_type": "stream",
     "text": [
      "0.9491\n"
     ]
    },
    {
     "name": "stdout",
     "output_type": "stream",
     "text": [
      "0.9396\n"
     ]
    },
    {
     "name": "stdout",
     "output_type": "stream",
     "text": [
      "0.9468\n"
     ]
    },
    {
     "name": "stdout",
     "output_type": "stream",
     "text": [
      "0.9386\n"
     ]
    },
    {
     "name": "stdout",
     "output_type": "stream",
     "text": [
      "0.951\n"
     ]
    },
    {
     "name": "stdout",
     "output_type": "stream",
     "text": [
      "0.9464\n"
     ]
    },
    {
     "name": "stdout",
     "output_type": "stream",
     "text": [
      "0.9439\n"
     ]
    },
    {
     "name": "stdout",
     "output_type": "stream",
     "text": [
      "0.9359\n"
     ]
    },
    {
     "name": "stdout",
     "output_type": "stream",
     "text": [
      "0.9423\n"
     ]
    },
    {
     "name": "stdout",
     "output_type": "stream",
     "text": [
      "0.9345\n"
     ]
    },
    {
     "name": "stdout",
     "output_type": "stream",
     "text": [
      "0.959\n"
     ]
    },
    {
     "name": "stdout",
     "output_type": "stream",
     "text": [
      "0.951\n"
     ]
    },
    {
     "name": "stdout",
     "output_type": "stream",
     "text": [
      "0.9482\n"
     ]
    },
    {
     "name": "stdout",
     "output_type": "stream",
     "text": [
      "0.9627\n"
     ]
    },
    {
     "name": "stdout",
     "output_type": "stream",
     "text": [
      "0.9469\n"
     ]
    },
    {
     "name": "stdout",
     "output_type": "stream",
     "text": [
      "0.942\n"
     ]
    },
    {
     "name": "stdout",
     "output_type": "stream",
     "text": [
      "0.8724\n"
     ]
    },
    {
     "name": "stdout",
     "output_type": "stream",
     "text": [
      "0.9354\n"
     ]
    },
    {
     "name": "stdout",
     "output_type": "stream",
     "text": [
      "0.9489\n"
     ]
    },
    {
     "name": "stdout",
     "output_type": "stream",
     "text": [
      "0.9502\n"
     ]
    },
    {
     "name": "stdout",
     "output_type": "stream",
     "text": [
      "0.9425\n"
     ]
    },
    {
     "name": "stdout",
     "output_type": "stream",
     "text": [
      "0.9531\n"
     ]
    },
    {
     "name": "stdout",
     "output_type": "stream",
     "text": [
      "0.9325\n"
     ]
    },
    {
     "name": "stdout",
     "output_type": "stream",
     "text": [
      "0.9526\n"
     ]
    },
    {
     "name": "stdout",
     "output_type": "stream",
     "text": [
      "0.9152\n"
     ]
    },
    {
     "name": "stdout",
     "output_type": "stream",
     "text": [
      "0.9319\n"
     ]
    },
    {
     "name": "stdout",
     "output_type": "stream",
     "text": [
      "0.9584\n"
     ]
    },
    {
     "name": "stdout",
     "output_type": "stream",
     "text": [
      "0.9401\n"
     ]
    },
    {
     "name": "stdout",
     "output_type": "stream",
     "text": [
      "0.9488\n"
     ]
    },
    {
     "name": "stdout",
     "output_type": "stream",
     "text": [
      "0.9526\n"
     ]
    },
    {
     "name": "stdout",
     "output_type": "stream",
     "text": [
      "0.9539\n"
     ]
    },
    {
     "name": "stdout",
     "output_type": "stream",
     "text": [
      "0.9284\n"
     ]
    },
    {
     "name": "stdout",
     "output_type": "stream",
     "text": [
      "0.9535\n"
     ]
    },
    {
     "name": "stdout",
     "output_type": "stream",
     "text": [
      "0.953\n"
     ]
    },
    {
     "name": "stdout",
     "output_type": "stream",
     "text": [
      "0.9442\n"
     ]
    },
    {
     "name": "stdout",
     "output_type": "stream",
     "text": [
      "0.9499\n"
     ]
    },
    {
     "name": "stdout",
     "output_type": "stream",
     "text": [
      "0.9415\n"
     ]
    },
    {
     "name": "stdout",
     "output_type": "stream",
     "text": [
      "0.9528\n"
     ]
    },
    {
     "name": "stdout",
     "output_type": "stream",
     "text": [
      "0.903\n"
     ]
    },
    {
     "name": "stdout",
     "output_type": "stream",
     "text": [
      "0.9059\n"
     ]
    },
    {
     "name": "stdout",
     "output_type": "stream",
     "text": [
      "0.9386\n"
     ]
    },
    {
     "name": "stdout",
     "output_type": "stream",
     "text": [
      "0.9296\n"
     ]
    },
    {
     "name": "stdout",
     "output_type": "stream",
     "text": [
      "0.9461\n"
     ]
    }
   ],
   "source": [
    "# Create a LeNet model\n",
    "model = Chain(\n",
    "    Conv((5,5),1 => 6, relu),\n",
    "    MaxPool((2,2)),\n",
    "    Conv((5,5),6 => 16, relu),\n",
    "    MaxPool((2,2)),\n",
    "    Flux.flatten,\n",
    "    Dense(256=>120,relu),\n",
    "    Dense(120=>84, relu),\n",
    "    Dense(84=>10, sigmoid),\n",
    "    softmax\n",
    ")\n",
    "\n",
    "# Function to measure the model accuracy\n",
    "function accuracy()\n",
    "    correct = 0\n",
    "    for index in 1:length(y_test)\n",
    "        probs = model(Flux.unsqueeze(x_test[:,:,:,index],dims=4))\n",
    "        predicted_digit = argmax(probs)[1]-1\n",
    "        if predicted_digit == y_test[index]\n",
    "            correct +=1\n",
    "        end\n",
    "    end\n",
    "    return correct/length(y_test)\n",
    "end\n",
    "\n",
    "# Reshape the data\n",
    "x_train = reshape(x_train, 28, 28, 1, :)\n",
    "x_test = reshape(x_test, 28, 28, 1, :)\n",
    "\n",
    "# Assemble the training data\n",
    "train_data = Flux.DataLoader((x_train,y_train), shuffle=true)\n",
    "\n",
    "# Initialize the ADAM optimizer with default settings\n",
    "optimizer = Flux.setup(Adam(), model)\n",
    "\n",
    "# Define the loss function that uses the cross-entropy to \n",
    "# measure the error by comparing model predictions of \n",
    "# data row \"x\" with true data from label \"y\"\n",
    "function loss(model, x, y)\n",
    "\treturn Flux.crossentropy(model(x),Flux.onehotbatch(y,0:9))\n",
    "end\n",
    "\n",
    "# Train model 100 times in a loop\n",
    "for epoch in 1:100\n",
    "    Flux.train!(loss, model, train_data, optimizer)\n",
    "    println(accuracy())\n",
    "end"
   ]
  }
 ],
 "metadata": {
  "kernelspec": {
   "display_name": "Julia 1.9.3",
   "language": "julia",
   "name": "julia-1.9"
  },
  "language_info": {
   "file_extension": ".jl",
   "mimetype": "application/julia",
   "name": "julia",
   "version": "1.9.3"
  },
  "orig_nbformat": 4
 },
 "nbformat": 4,
 "nbformat_minor": 2
}
